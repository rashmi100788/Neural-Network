{
 "cells": [
  {
   "cell_type": "markdown",
   "metadata": {},
   "source": [
    "# Objective :"
   ]
  },
  {
   "cell_type": "markdown",
   "metadata": {},
   "source": [
    "#### In this project we will use dataset with images centred around a single digit (many of the images do contain some distractors at the sides). \n",
    "##### We need to recognize a single digit from multi-digit numbers in photographs captured at street level housing number dataset.\n",
    "#### To start with , we will first use KNN for classification of digits and then Neural network."
   ]
  },
  {
   "cell_type": "markdown",
   "metadata": {},
   "source": [
    "### Let us first import all required libraries"
   ]
  },
  {
   "cell_type": "code",
   "execution_count": 1,
   "metadata": {},
   "outputs": [],
   "source": [
    "import pandas as pd\n",
    "import numpy as np\n",
    "from sklearn.model_selection import train_test_split\n",
    "from sklearn.neighbors import KNeighborsClassifier\n",
    "from sklearn.metrics import confusion_matrix\n",
    "from sklearn.metrics import classification_report\n",
    "from sklearn import datasets\n",
    "from skimage import exposure\n",
    "import matplotlib.pyplot as plt\n",
    "import os"
   ]
  },
  {
   "cell_type": "code",
   "execution_count": 3,
   "metadata": {},
   "outputs": [],
   "source": [
    "os.chdir(\"C:/Great_lakes/AI/Week-4\")"
   ]
  },
  {
   "cell_type": "markdown",
   "metadata": {},
   "source": [
    "#### Need to import h5py to read .h5 file."
   ]
  },
  {
   "cell_type": "code",
   "execution_count": 5,
   "metadata": {},
   "outputs": [],
   "source": [
    "import h5py"
   ]
  },
  {
   "cell_type": "code",
   "execution_count": 85,
   "metadata": {},
   "outputs": [],
   "source": [
    "svhn = h5py.File('SVHN_single_grey1.h5','r')"
   ]
  },
  {
   "cell_type": "code",
   "execution_count": 86,
   "metadata": {},
   "outputs": [
    {
     "data": {
      "text/plain": [
       "<HDF5 file \"SVHN_single_grey1.h5\" (mode r+)>"
      ]
     },
     "execution_count": 86,
     "metadata": {},
     "output_type": "execute_result"
    }
   ],
   "source": [
    "svhn"
   ]
  },
  {
   "cell_type": "code",
   "execution_count": 183,
   "metadata": {},
   "outputs": [
    {
     "data": {
      "text/plain": [
       "array(['X_test', 'X_train', 'X_val', 'y_test', 'y_train'], dtype='<U7')"
      ]
     },
     "execution_count": 183,
     "metadata": {},
     "output_type": "execute_result"
    }
   ],
   "source": [
    "np.array(svhn)[:5]"
   ]
  },
  {
   "cell_type": "markdown",
   "metadata": {},
   "source": [
    "Above output shows that we are not provided with 'X_test', 'X_train', 'X_val', 'y_test' and 'y_train' but y_val is missing and that is why we'll proceed with 'X_test', 'X_train', 'y_test' and 'y_train'."
   ]
  },
  {
   "cell_type": "markdown",
   "metadata": {},
   "source": [
    "#### Now let us extract X_test', 'X_train', 'y_test' and 'y_train' from .h5 file imported "
   ]
  },
  {
   "cell_type": "code",
   "execution_count": 96,
   "metadata": {},
   "outputs": [],
   "source": [
    "X_train = svhn['X_train'][:]\n",
    "y_train = svhn['y_train'][:]\n",
    "\n",
    "X_test = svhn['X_test'][:]\n",
    "y_test = svhn['y_test'][:]"
   ]
  },
  {
   "cell_type": "markdown",
   "metadata": {},
   "source": [
    "###  Now let us check the shape of train and test data"
   ]
  },
  {
   "cell_type": "code",
   "execution_count": 97,
   "metadata": {},
   "outputs": [
    {
     "name": "stdout",
     "output_type": "stream",
     "text": [
      "Training set (42000, 32, 32) (42000,)\n",
      "Test set (18000, 32, 32) (18000,)\n"
     ]
    }
   ],
   "source": [
    "print('Training set', X_train.shape, y_train.shape)\n",
    "print('Test set', X_test.shape, y_test.shape)"
   ]
  },
  {
   "cell_type": "markdown",
   "metadata": {},
   "source": [
    "##### Above code shows that provided data is a 3 dimesional array and hence required to be flattened in to two dimesional array as shown below :"
   ]
  },
  {
   "cell_type": "code",
   "execution_count": 155,
   "metadata": {},
   "outputs": [],
   "source": [
    "X_train = X_train.reshape(42000, 1024)"
   ]
  },
  {
   "cell_type": "code",
   "execution_count": 99,
   "metadata": {},
   "outputs": [
    {
     "data": {
      "text/plain": [
       "(42000, 1024)"
      ]
     },
     "execution_count": 99,
     "metadata": {},
     "output_type": "execute_result"
    }
   ],
   "source": [
    "X_train.shape"
   ]
  },
  {
   "cell_type": "code",
   "execution_count": 156,
   "metadata": {},
   "outputs": [],
   "source": [
    "X_test=X_test.reshape(18000,1024)"
   ]
  },
  {
   "cell_type": "code",
   "execution_count": 101,
   "metadata": {},
   "outputs": [
    {
     "data": {
      "text/plain": [
       "(18000, 1024)"
      ]
     },
     "execution_count": 101,
     "metadata": {},
     "output_type": "execute_result"
    }
   ],
   "source": [
    "X_test.shape"
   ]
  },
  {
   "cell_type": "markdown",
   "metadata": {},
   "source": [
    "As shown above now train and test is convered into 2 dimensional array of 42000 X 1024 and 18000 X 1024 respectively."
   ]
  },
  {
   "cell_type": "markdown",
   "metadata": {},
   "source": [
    "Let us check first row provided in X_test"
   ]
  },
  {
   "cell_type": "code",
   "execution_count": 102,
   "metadata": {},
   "outputs": [
    {
     "data": {
      "text/plain": [
       "array([115.1609, 114.161 , 113.1611, ...,  42.1388,  48.2522,  53.2517],\n",
       "      dtype=float32)"
      ]
     },
     "execution_count": 102,
     "metadata": {},
     "output_type": "execute_result"
    }
   ],
   "source": [
    "X_test[1]"
   ]
  },
  {
   "cell_type": "code",
   "execution_count": 103,
   "metadata": {},
   "outputs": [
    {
     "data": {
      "text/plain": [
       "dtype('<f4')"
      ]
     },
     "execution_count": 103,
     "metadata": {},
     "output_type": "execute_result"
    }
   ],
   "source": [
    "X_train.dtype"
   ]
  },
  {
   "cell_type": "markdown",
   "metadata": {},
   "source": [
    "Since KNN takes much time to learn , We need to pass lesser images data into train and test both as shown in below code"
   ]
  },
  {
   "cell_type": "code",
   "execution_count": 108,
   "metadata": {},
   "outputs": [],
   "source": [
    "X_train_knn=X_train[0:20000]"
   ]
  },
  {
   "cell_type": "code",
   "execution_count": 119,
   "metadata": {},
   "outputs": [],
   "source": [
    "X_test_knn=X_test[0:5000]"
   ]
  },
  {
   "cell_type": "code",
   "execution_count": 120,
   "metadata": {},
   "outputs": [],
   "source": [
    "y_train_knn=y_train[0:20000]"
   ]
  },
  {
   "cell_type": "code",
   "execution_count": 121,
   "metadata": {},
   "outputs": [],
   "source": [
    "y_test_knn=y_test[0:5000]"
   ]
  },
  {
   "cell_type": "code",
   "execution_count": 111,
   "metadata": {},
   "outputs": [
    {
     "data": {
      "text/plain": [
       "(20000, 1024)"
      ]
     },
     "execution_count": 111,
     "metadata": {},
     "output_type": "execute_result"
    }
   ],
   "source": [
    "X_train_knn.shape"
   ]
  },
  {
   "cell_type": "code",
   "execution_count": 112,
   "metadata": {},
   "outputs": [
    {
     "data": {
      "text/plain": [
       "(5000, 1024)"
      ]
     },
     "execution_count": 112,
     "metadata": {},
     "output_type": "execute_result"
    }
   ],
   "source": [
    "X_test_knn.shape"
   ]
  },
  {
   "cell_type": "markdown",
   "metadata": {},
   "source": [
    "Let is visualize one sample output"
   ]
  },
  {
   "cell_type": "code",
   "execution_count": 113,
   "metadata": {},
   "outputs": [
    {
     "data": {
      "image/png": "[encoded data removed]",
      "text/plain": [
       "<Figure size 720x72 with 10 Axes>"
      ]
     },
     "metadata": {
      "needs_background": "light"
     },
     "output_type": "display_data"
    },
    {
     "name": "stdout",
     "output_type": "stream",
     "text": [
      "label for each of the above image: [2 6 7 4 4 0 3 0 7 3]\n"
     ]
    }
   ],
   "source": [
    "%matplotlib inline\n",
    "import matplotlib.pyplot as plt\n",
    "plt.figure(figsize=(10, 1))\n",
    "for i in range(10):\n",
    "    plt.subplot(1, 10, i+1)\n",
    "    plt.imshow(X_train[i].reshape(32, 32))\n",
    "    plt.axis('off')\n",
    "plt.show()\n",
    "print('label for each of the above image: %s' % (y_train[0:10]))"
   ]
  },
  {
   "cell_type": "markdown",
   "metadata": {},
   "source": [
    "Let us use gridsearch CV for best accuracy"
   ]
  },
  {
   "cell_type": "code",
   "execution_count": 128,
   "metadata": {},
   "outputs": [],
   "source": [
    "from sklearn.model_selection import GridSearchCV"
   ]
  },
  {
   "cell_type": "code",
   "execution_count": 131,
   "metadata": {},
   "outputs": [],
   "source": [
    "param_grid = { \n",
    "    'n_neighbors': [3,4],\n",
    "    'weights' :['distance'],\n",
    "}"
   ]
  },
  {
   "cell_type": "code",
   "execution_count": 132,
   "metadata": {},
   "outputs": [],
   "source": [
    "NNH = KNeighborsClassifier()"
   ]
  },
  {
   "cell_type": "code",
   "execution_count": 133,
   "metadata": {},
   "outputs": [
    {
     "data": {
      "text/plain": [
       "GridSearchCV(cv=5, error_score='raise-deprecating',\n",
       "             estimator=KNeighborsClassifier(algorithm='auto', leaf_size=30,\n",
       "                                            metric='minkowski',\n",
       "                                            metric_params=None, n_jobs=None,\n",
       "                                            n_neighbors=5, p=2,\n",
       "                                            weights='uniform'),\n",
       "             iid='warn', n_jobs=None,\n",
       "             param_grid={'n_neighbors': [3, 4], 'weights': ['distance']},\n",
       "             pre_dispatch='2*n_jobs', refit=True, return_train_score=False,\n",
       "             scoring=None, verbose=0)"
      ]
     },
     "execution_count": 133,
     "metadata": {},
     "output_type": "execute_result"
    }
   ],
   "source": [
    "CV_NNH = GridSearchCV(estimator=NNH, param_grid=param_grid, cv= 5)\n",
    "CV_NNH.fit(X_train_knn, y_train_knn)"
   ]
  },
  {
   "cell_type": "markdown",
   "metadata": {},
   "source": [
    "Now let us check best_params output"
   ]
  },
  {
   "cell_type": "code",
   "execution_count": 134,
   "metadata": {},
   "outputs": [
    {
     "data": {
      "text/plain": [
       "{'n_neighbors': 4, 'weights': 'distance'}"
      ]
     },
     "execution_count": 134,
     "metadata": {},
     "output_type": "execute_result"
    }
   ],
   "source": [
    "CV_NNH.best_params_"
   ]
  },
  {
   "cell_type": "markdown",
   "metadata": {},
   "source": [
    "Now let us get the predicted labels out of fitted model above along with scores"
   ]
  },
  {
   "cell_type": "code",
   "execution_count": 135,
   "metadata": {},
   "outputs": [
    {
     "data": {
      "text/plain": [
       "0.457"
      ]
     },
     "execution_count": 135,
     "metadata": {},
     "output_type": "execute_result"
    }
   ],
   "source": [
    "predicted_labels = CV_NNH.predict(X_test_knn)\n",
    "CV_NNH.score(X_test_knn, y_test_knn)"
   ]
  },
  {
   "cell_type": "markdown",
   "metadata": {},
   "source": [
    "#### Now let us creat clssification report"
   ]
  },
  {
   "cell_type": "code",
   "execution_count": 138,
   "metadata": {},
   "outputs": [],
   "source": [
    "from sklearn.metrics import classification_report"
   ]
  },
  {
   "cell_type": "code",
   "execution_count": 139,
   "metadata": {},
   "outputs": [
    {
     "name": "stdout",
     "output_type": "stream",
     "text": [
      "[[248  24   8  20  26  16  50  12  37  62]\n",
      " [ 16 315  26  21  29  18  15  35  12  16]\n",
      " [ 15  52 222  43  18  13  12  47  24  41]\n",
      " [ 22  55  33 162  24  52  22  29  36  26]\n",
      " [ 27  54  18  22 295  16  20  14  21  25]\n",
      " [ 47  30  16  63  21 177  65  16  47  40]\n",
      " [ 59  27  12  14  40  43 200  12  78  31]\n",
      " [ 15  54  42  30  14  13   8 275  15  10]\n",
      " [ 60  29  14  52  14  34  65  10 197  46]\n",
      " [ 62  27  28  30  16  27  29  23  63 194]]\n"
     ]
    }
   ],
   "source": [
    "print(metrics.confusion_matrix(y_test_knn, predicted_labels))"
   ]
  },
  {
   "cell_type": "markdown",
   "metadata": {},
   "source": [
    "# Neural Network"
   ]
  },
  {
   "cell_type": "markdown",
   "metadata": {},
   "source": [
    "### Now let us try classification with Neural network using Keras"
   ]
  },
  {
   "cell_type": "code",
   "execution_count": 55,
   "metadata": {},
   "outputs": [],
   "source": [
    "svhn_nn = h5py.File('SVHN_single_grey1.h5','r')"
   ]
  },
  {
   "cell_type": "markdown",
   "metadata": {},
   "source": [
    "Now let us extract train and test sets from .h5 file"
   ]
  },
  {
   "cell_type": "code",
   "execution_count": 56,
   "metadata": {},
   "outputs": [],
   "source": [
    "X_train_nn = svhn_nn['X_train'][:]\n",
    "y_train_nn = svhn_nn['y_train'][:]\n",
    "\n",
    "X_test_nn = svhn_nn['X_test'][:]\n",
    "y_test_nn = svhn_nn['y_test'][:]"
   ]
  },
  {
   "cell_type": "markdown",
   "metadata": {},
   "source": [
    "Now import tensorflow :"
   ]
  },
  {
   "cell_type": "code",
   "execution_count": 57,
   "metadata": {},
   "outputs": [],
   "source": [
    "import tensorflow as tf\n",
    "tf.reset_default_graph()\n",
    "tf.set_random_seed(42)"
   ]
  },
  {
   "cell_type": "markdown",
   "metadata": {},
   "source": [
    "### Convert Output label to multiple values"
   ]
  },
  {
   "cell_type": "code",
   "execution_count": 58,
   "metadata": {},
   "outputs": [],
   "source": [
    "y_train_nn = tf.keras.utils.to_categorical(y_train_nn, num_classes=10)\n",
    "y_test_nn = tf.keras.utils.to_categorical(y_test_nn, num_classes=10)"
   ]
  },
  {
   "cell_type": "markdown",
   "metadata": {},
   "source": [
    "## Build the Graph"
   ]
  },
  {
   "cell_type": "code",
   "execution_count": 59,
   "metadata": {},
   "outputs": [],
   "source": [
    "#Initialize Sequential model\n",
    "model = tf.keras.models.Sequential()\n",
    "\n",
    "#Reshape data from 2D to 1D -> 32X32 to 1024\n",
    "model.add(tf.keras.layers.Reshape((1024,),input_shape=(32,32)))\n",
    "\n",
    "#Normalize the data\n",
    "model.add(tf.keras.layers.BatchNormalization())"
   ]
  },
  {
   "cell_type": "code",
   "execution_count": 60,
   "metadata": {},
   "outputs": [],
   "source": [
    "#Add 1st hidden layer\n",
    "model.add(tf.keras.layers.Dense(200, activation='sigmoid'))"
   ]
  },
  {
   "cell_type": "code",
   "execution_count": 61,
   "metadata": {},
   "outputs": [],
   "source": [
    "#Add 2nd hidden layer\n",
    "model.add(tf.keras.layers.Dense(100, activation='sigmoid'))"
   ]
  },
  {
   "cell_type": "code",
   "execution_count": 62,
   "metadata": {},
   "outputs": [],
   "source": [
    "#Add 3rd hidden layer\n",
    "model.add(tf.keras.layers.Dense(60, activation='sigmoid'))"
   ]
  },
  {
   "cell_type": "code",
   "execution_count": 63,
   "metadata": {},
   "outputs": [],
   "source": [
    "#Add 4th hidden layer\n",
    "model.add(tf.keras.layers.Dense(30, activation='sigmoid'))"
   ]
  },
  {
   "cell_type": "code",
   "execution_count": 64,
   "metadata": {},
   "outputs": [],
   "source": [
    "#Add OUTPUT layer\n",
    "model.add(tf.keras.layers.Dense(10, activation='softmax'))"
   ]
  },
  {
   "cell_type": "code",
   "execution_count": 65,
   "metadata": {},
   "outputs": [],
   "source": [
    "#Create optimizer with non-default learning rate\n",
    "sgd_optimizer = tf.keras.optimizers.SGD(lr=0.03)\n",
    "\n",
    "#Compile the model\n",
    "model.compile(optimizer=sgd_optimizer, loss='categorical_crossentropy', metrics=['accuracy'])"
   ]
  },
  {
   "cell_type": "code",
   "execution_count": 66,
   "metadata": {},
   "outputs": [
    {
     "name": "stdout",
     "output_type": "stream",
     "text": [
      "Model: \"sequential\"\n",
      "_________________________________________________________________\n",
      "Layer (type)                 Output Shape              Param #   \n",
      "=================================================================\n",
      "reshape (Reshape)            (None, 1024)              0         \n",
      "_________________________________________________________________\n",
      "batch_normalization (BatchNo (None, 1024)              4096      \n",
      "_________________________________________________________________\n",
      "dense (Dense)                (None, 200)               205000    \n",
      "_________________________________________________________________\n",
      "dense_1 (Dense)              (None, 100)               20100     \n",
      "_________________________________________________________________\n",
      "dense_2 (Dense)              (None, 60)                6060      \n",
      "_________________________________________________________________\n",
      "dense_3 (Dense)              (None, 30)                1830      \n",
      "_________________________________________________________________\n",
      "dense_4 (Dense)              (None, 10)                310       \n",
      "=================================================================\n",
      "Total params: 237,396\n",
      "Trainable params: 235,348\n",
      "Non-trainable params: 2,048\n",
      "_________________________________________________________________\n"
     ]
    }
   ],
   "source": [
    "model.summary()"
   ]
  },
  {
   "cell_type": "code",
   "execution_count": 67,
   "metadata": {},
   "outputs": [
    {
     "name": "stdout",
     "output_type": "stream",
     "text": [
      "Epoch 1/100\n",
      "42000/42000 [==============================] - 4s 102us/sample - loss: 2.3064 - acc: 0.0988\n",
      "Epoch 2/100\n",
      "42000/42000 [==============================] - 5s 110us/sample - loss: 2.3042 - acc: 0.0993\n",
      "Epoch 3/100\n",
      "42000/42000 [==============================] - 4s 100us/sample - loss: 2.3039 - acc: 0.1004\n",
      "Epoch 4/100\n",
      "42000/42000 [==============================] - 4s 104us/sample - loss: 2.3039 - acc: 0.0987\n",
      "Epoch 5/100\n",
      "42000/42000 [==============================] - 5s 123us/sample - loss: 2.3038 - acc: 0.0993\n",
      "Epoch 6/100\n",
      "42000/42000 [==============================] - 5s 120us/sample - loss: 2.3036 - acc: 0.1013\n",
      "Epoch 7/100\n",
      "42000/42000 [==============================] - 5s 118us/sample - loss: 2.3034 - acc: 0.1017\n",
      "Epoch 8/100\n",
      "42000/42000 [==============================] - 4s 107us/sample - loss: 2.3034 - acc: 0.1021\n",
      "Epoch 9/100\n",
      "42000/42000 [==============================] - 5s 117us/sample - loss: 2.3034 - acc: 0.1035\n",
      "Epoch 10/100\n",
      "42000/42000 [==============================] - 5s 111us/sample - loss: 2.3036 - acc: 0.1001\n",
      "Epoch 11/100\n",
      "42000/42000 [==============================] - 4s 101us/sample - loss: 2.3033 - acc: 0.1017\n",
      "Epoch 12/100\n",
      "42000/42000 [==============================] - 4s 104us/sample - loss: 2.3032 - acc: 0.1019\n",
      "Epoch 13/100\n",
      "42000/42000 [==============================] - 4s 102us/sample - loss: 2.3031 - acc: 0.1011\n",
      "Epoch 14/100\n",
      "42000/42000 [==============================] - 4s 104us/sample - loss: 2.3030 - acc: 0.1007\n",
      "Epoch 15/100\n",
      "42000/42000 [==============================] - 5s 108us/sample - loss: 2.3029 - acc: 0.1026\n",
      "Epoch 16/100\n",
      "42000/42000 [==============================] - 5s 121us/sample - loss: 2.3030 - acc: 0.1039\n",
      "Epoch 17/100\n",
      "42000/42000 [==============================] - 5s 115us/sample - loss: 2.3029 - acc: 0.1023\n",
      "Epoch 18/100\n",
      "42000/42000 [==============================] - 5s 108us/sample - loss: 2.3028 - acc: 0.1033\n",
      "Epoch 19/100\n",
      "42000/42000 [==============================] - 5s 108us/sample - loss: 2.3028 - acc: 0.1030\n",
      "Epoch 20/100\n",
      "42000/42000 [==============================] - 5s 109us/sample - loss: 2.3025 - acc: 0.1042\n",
      "Epoch 21/100\n",
      "42000/42000 [==============================] - 5s 108us/sample - loss: 2.3025 - acc: 0.1037\n",
      "Epoch 22/100\n",
      "42000/42000 [==============================] - 5s 109us/sample - loss: 2.3024 - acc: 0.1052\n",
      "Epoch 23/100\n",
      "42000/42000 [==============================] - 5s 110us/sample - loss: 2.3024 - acc: 0.1045\n",
      "Epoch 24/100\n",
      "42000/42000 [==============================] - 5s 108us/sample - loss: 2.3020 - acc: 0.1067\n",
      "Epoch 25/100\n",
      "42000/42000 [==============================] - 5s 110us/sample - loss: 2.3020 - acc: 0.1056\n",
      "Epoch 26/100\n",
      "42000/42000 [==============================] - 5s 113us/sample - loss: 2.3018 - acc: 0.1060\n",
      "Epoch 27/100\n",
      "42000/42000 [==============================] - 5s 108us/sample - loss: 2.3015 - acc: 0.1080\n",
      "Epoch 28/100\n",
      "42000/42000 [==============================] - 5s 108us/sample - loss: 2.3013 - acc: 0.1101\n",
      "Epoch 29/100\n",
      "42000/42000 [==============================] - 5s 107us/sample - loss: 2.3012 - acc: 0.1103\n",
      "Epoch 30/100\n",
      "42000/42000 [==============================] - 5s 108us/sample - loss: 2.3010 - acc: 0.1099\n",
      "Epoch 31/100\n",
      "42000/42000 [==============================] - 5s 126us/sample - loss: 2.3007 - acc: 0.1089\n",
      "Epoch 32/100\n",
      "42000/42000 [==============================] - 5s 110us/sample - loss: 2.3004 - acc: 0.1116\n",
      "Epoch 33/100\n",
      "42000/42000 [==============================] - 5s 110us/sample - loss: 2.3002 - acc: 0.1133\n",
      "Epoch 34/100\n",
      "42000/42000 [==============================] - 5s 108us/sample - loss: 2.2997 - acc: 0.1174\n",
      "Epoch 35/100\n",
      "42000/42000 [==============================] - 5s 108us/sample - loss: 2.2993 - acc: 0.1137\n",
      "Epoch 36/100\n",
      "42000/42000 [==============================] - 5s 110us/sample - loss: 2.2988 - acc: 0.1204\n",
      "Epoch 37/100\n",
      "42000/42000 [==============================] - 5s 109us/sample - loss: 2.2982 - acc: 0.1205\n",
      "Epoch 38/100\n",
      "42000/42000 [==============================] - 5s 110us/sample - loss: 2.2976 - acc: 0.1230\n",
      "Epoch 39/100\n",
      "42000/42000 [==============================] - 5s 110us/sample - loss: 2.2968 - acc: 0.1250\n",
      "Epoch 40/100\n",
      "42000/42000 [==============================] - 5s 109us/sample - loss: 2.2955 - acc: 0.1246\n",
      "Epoch 41/100\n",
      "42000/42000 [==============================] - 5s 110us/sample - loss: 2.2944 - acc: 0.1305\n",
      "Epoch 42/100\n",
      "42000/42000 [==============================] - 5s 110us/sample - loss: 2.2923 - acc: 0.1325\n",
      "Epoch 43/100\n",
      "42000/42000 [==============================] - 5s 111us/sample - loss: 2.2901 - acc: 0.1378\n",
      "Epoch 44/100\n",
      "42000/42000 [==============================] - 5s 111us/sample - loss: 2.2869 - acc: 0.1391\n",
      "Epoch 45/100\n",
      "42000/42000 [==============================] - 5s 112us/sample - loss: 2.2818 - acc: 0.1440\n",
      "Epoch 46/100\n",
      "42000/42000 [==============================] - 5s 110us/sample - loss: 2.2730 - acc: 0.1510\n",
      "Epoch 47/100\n",
      "42000/42000 [==============================] - 5s 111us/sample - loss: 2.2552 - acc: 0.1626\n",
      "Epoch 48/100\n",
      "42000/42000 [==============================] - 5s 110us/sample - loss: 2.2185 - acc: 0.1759\n",
      "Epoch 49/100\n",
      "42000/42000 [==============================] - 5s 111us/sample - loss: 2.1466 - acc: 0.1935\n",
      "Epoch 50/100\n",
      "42000/42000 [==============================] - 5s 118us/sample - loss: 2.0596 - acc: 0.2095\n",
      "Epoch 51/100\n",
      "42000/42000 [==============================] - 5s 112us/sample - loss: 1.9993 - acc: 0.2269\n",
      "Epoch 52/100\n",
      "42000/42000 [==============================] - 5s 114us/sample - loss: 1.9649 - acc: 0.2371\n",
      "Epoch 53/100\n",
      "42000/42000 [==============================] - 5s 111us/sample - loss: 1.9407 - acc: 0.2500\n",
      "Epoch 54/100\n",
      "42000/42000 [==============================] - 5s 112us/sample - loss: 1.9215 - acc: 0.2627\n",
      "Epoch 55/100\n",
      "42000/42000 [==============================] - 5s 113us/sample - loss: 1.8992 - acc: 0.2724\n",
      "Epoch 56/100\n",
      "42000/42000 [==============================] - 5s 107us/sample - loss: 1.8777 - acc: 0.2835\n",
      "Epoch 57/100\n",
      "42000/42000 [==============================] - 4s 105us/sample - loss: 1.8571 - acc: 0.2927\n",
      "Epoch 58/100\n",
      "42000/42000 [==============================] - 5s 110us/sample - loss: 1.8355 - acc: 0.3051\n",
      "Epoch 59/100\n",
      "42000/42000 [==============================] - 5s 110us/sample - loss: 1.8107 - acc: 0.3164\n",
      "Epoch 60/100\n",
      "42000/42000 [==============================] - 5s 110us/sample - loss: 1.7786 - acc: 0.3304\n",
      "Epoch 61/100\n",
      "42000/42000 [==============================] - 5s 111us/sample - loss: 1.7470 - acc: 0.3436\n",
      "Epoch 62/100\n",
      "42000/42000 [==============================] - 5s 110us/sample - loss: 1.7033 - acc: 0.3687\n",
      "Epoch 63/100\n",
      "42000/42000 [==============================] - 5s 112us/sample - loss: 1.6533 - acc: 0.3955\n",
      "Epoch 64/100\n",
      "42000/42000 [==============================] - 5s 111us/sample - loss: 1.6016 - acc: 0.4170\n",
      "Epoch 65/100\n",
      "42000/42000 [==============================] - 5s 110us/sample - loss: 1.5531 - acc: 0.4353\n",
      "Epoch 66/100\n",
      "42000/42000 [==============================] - 5s 111us/sample - loss: 1.5145 - acc: 0.4556\n",
      "Epoch 67/100\n",
      "42000/42000 [==============================] - 5s 111us/sample - loss: 1.4714 - acc: 0.4717\n",
      "Epoch 68/100\n",
      "42000/42000 [==============================] - 5s 110us/sample - loss: 1.4286 - acc: 0.4979\n",
      "Epoch 69/100\n",
      "42000/42000 [==============================] - 5s 111us/sample - loss: 1.3887 - acc: 0.5181\n",
      "Epoch 70/100\n",
      "42000/42000 [==============================] - 5s 112us/sample - loss: 1.3384 - acc: 0.5461\n",
      "Epoch 71/100\n",
      "42000/42000 [==============================] - 5s 112us/sample - loss: 1.2969 - acc: 0.5623\n",
      "Epoch 72/100\n",
      "42000/42000 [==============================] - 5s 110us/sample - loss: 1.2484 - acc: 0.5853\n",
      "Epoch 73/100\n",
      "42000/42000 [==============================] - 5s 112us/sample - loss: 1.2086 - acc: 0.6000\n",
      "Epoch 74/100\n",
      "42000/42000 [==============================] - 5s 114us/sample - loss: 1.1752 - acc: 0.6152\n",
      "Epoch 75/100\n",
      "42000/42000 [==============================] - 5s 110us/sample - loss: 1.1417 - acc: 0.6319\n",
      "Epoch 76/100\n",
      "42000/42000 [==============================] - 5s 109us/sample - loss: 1.1127 - acc: 0.6368\n",
      "Epoch 77/100\n",
      "42000/42000 [==============================] - 5s 109us/sample - loss: 1.0863 - acc: 0.6503\n",
      "Epoch 78/100\n",
      "42000/42000 [==============================] - 5s 111us/sample - loss: 1.0607 - acc: 0.6586\n",
      "Epoch 79/100\n",
      "42000/42000 [==============================] - 4s 104us/sample - loss: 1.0345 - acc: 0.6672\n",
      "Epoch 80/100\n",
      "42000/42000 [==============================] - 4s 103us/sample - loss: 1.0083 - acc: 0.6780\n",
      "Epoch 81/100\n",
      "42000/42000 [==============================] - 4s 106us/sample - loss: 0.9897 - acc: 0.6840\n",
      "Epoch 82/100\n",
      "42000/42000 [==============================] - 4s 106us/sample - loss: 0.9659 - acc: 0.6942\n",
      "Epoch 83/100\n",
      "42000/42000 [==============================] - 5s 108us/sample - loss: 0.9377 - acc: 0.7069\n",
      "Epoch 84/100\n",
      "42000/42000 [==============================] - 4s 106us/sample - loss: 0.9195 - acc: 0.7108\n",
      "Epoch 85/100\n",
      "42000/42000 [==============================] - 4s 105us/sample - loss: 0.9005 - acc: 0.7185\n",
      "Epoch 86/100\n",
      "42000/42000 [==============================] - 4s 107us/sample - loss: 0.8799 - acc: 0.7241\n",
      "Epoch 87/100\n",
      "42000/42000 [==============================] - 4s 104us/sample - loss: 0.8677 - acc: 0.7283\n",
      "Epoch 88/100\n",
      "42000/42000 [==============================] - 4s 104us/sample - loss: 0.8463 - acc: 0.7342\n",
      "Epoch 89/100\n",
      "42000/42000 [==============================] - 4s 104us/sample - loss: 0.8353 - acc: 0.7382\n",
      "Epoch 90/100\n",
      "42000/42000 [==============================] - 4s 107us/sample - loss: 0.8215 - acc: 0.7436\n",
      "Epoch 91/100\n",
      "42000/42000 [==============================] - 4s 105us/sample - loss: 0.8016 - acc: 0.7493\n",
      "Epoch 92/100\n",
      "42000/42000 [==============================] - 5s 109us/sample - loss: 0.7952 - acc: 0.7513\n",
      "Epoch 93/100\n",
      "42000/42000 [==============================] - 4s 105us/sample - loss: 0.7769 - acc: 0.7565\n",
      "Epoch 94/100\n",
      "42000/42000 [==============================] - 4s 106us/sample - loss: 0.7690 - acc: 0.7586\n",
      "Epoch 95/100\n",
      "42000/42000 [==============================] - 4s 104us/sample - loss: 0.7602 - acc: 0.7592\n",
      "Epoch 96/100\n",
      "42000/42000 [==============================] - 4s 107us/sample - loss: 0.7528 - acc: 0.7638\n",
      "Epoch 97/100\n",
      "42000/42000 [==============================] - 4s 106us/sample - loss: 0.7415 - acc: 0.7690\n",
      "Epoch 98/100\n",
      "42000/42000 [==============================] - 4s 105us/sample - loss: 0.7281 - acc: 0.7713\n",
      "Epoch 99/100\n",
      "42000/42000 [==============================] - 5s 111us/sample - loss: 0.7239 - acc: 0.7736\n",
      "Epoch 100/100\n",
      "42000/42000 [==============================] - 5s 107us/sample - loss: 0.7150 - acc: 0.7735\n"
     ]
    },
    {
     "data": {
      "text/plain": [
       "<tensorflow.python.keras.callbacks.History at 0x1c003d8c4e0>"
      ]
     },
     "execution_count": 67,
     "metadata": {},
     "output_type": "execute_result"
    }
   ],
   "source": [
    "model.fit(X_train_nn,y_train_nn,\n",
    "          epochs=100,batch_size=50)"
   ]
  },
  {
   "cell_type": "markdown",
   "metadata": {},
   "source": [
    "So, At 100th epoch , we have accuracy of 77.35 % at loss of 0.71%."
   ]
  },
  {
   "cell_type": "code",
   "execution_count": 68,
   "metadata": {},
   "outputs": [],
   "source": [
    "predicted_labels = model.predict(X_test_nn)"
   ]
  },
  {
   "cell_type": "markdown",
   "metadata": {},
   "source": [
    "Now let us check model accuracy in test datasets :"
   ]
  },
  {
   "cell_type": "code",
   "execution_count": 75,
   "metadata": {},
   "outputs": [],
   "source": [
    "scores = model.evaluate(X_test_nn, y_test_nn, verbose=0)"
   ]
  },
  {
   "cell_type": "code",
   "execution_count": 78,
   "metadata": {},
   "outputs": [
    {
     "name": "stdout",
     "output_type": "stream",
     "text": [
      "acc: 78.29%\n"
     ]
    }
   ],
   "source": [
    "print(\"%s: %.2f%%\" % (model.metrics_names[1], scores[1]*100))"
   ]
  },
  {
   "cell_type": "markdown",
   "metadata": {},
   "source": [
    "So We achieved 78.29% accuracy in test dataset , which is close to train accuracy and hence our model is not overfitting."
   ]
  },
  {
   "cell_type": "markdown",
   "metadata": {},
   "source": [
    "Now Let us check the confusion matrix of neural network model which we just created :"
   ]
  },
  {
   "cell_type": "code",
   "execution_count": 81,
   "metadata": {},
   "outputs": [],
   "source": [
    "from sklearn.metrics import confusion_matrix\n",
    "from sklearn.metrics import classification_report\n",
    "from sklearn import metrics"
   ]
  },
  {
   "cell_type": "code",
   "execution_count": 83,
   "metadata": {},
   "outputs": [],
   "source": [
    "matrix = metrics.confusion_matrix(y_test_nn.argmax(axis=1),predicted_labels.argmax(axis=1))"
   ]
  },
  {
   "cell_type": "code",
   "execution_count": 85,
   "metadata": {},
   "outputs": [
    {
     "name": "stdout",
     "output_type": "stream",
     "text": [
      "[[1570   42   56   17   26    5   19   11   24   44]\n",
      " [  34 1534   31   33   78   14    2   83    7   12]\n",
      " [  26   56 1455   59   15    7    1  114   17   53]\n",
      " [  21   74   46 1255   17  188    4   36   41   37]\n",
      " [  43  149   22   17 1458   29   45    5   24   20]\n",
      " [  20   35   14  122   25 1374   52    6   97   23]\n",
      " [  79   28   17   11   69   95 1409    3  108   13]\n",
      " [  14  118  122   31   12    3    0 1485    7   16]\n",
      " [  63   32   25   44   33  123  109    6 1281   96]\n",
      " [ 114   39  108   75   17   44    7   12  116 1272]]\n"
     ]
    }
   ],
   "source": [
    "print(matrix)"
   ]
  },
  {
   "cell_type": "markdown",
   "metadata": {},
   "source": [
    "### Now let us use Relu activation function in one of the layers :"
   ]
  },
  {
   "cell_type": "code",
   "execution_count": 95,
   "metadata": {},
   "outputs": [],
   "source": [
    "#Initialize Sequential model\n",
    "model_2 = tf.keras.models.Sequential()\n",
    "\n",
    "#Reshape data from 2D to 1D -> 32X32 to 1024\n",
    "model_2.add(tf.keras.layers.Reshape((1024,),input_shape=(32,32)))\n",
    "\n",
    "#Normalize the data\n",
    "model_2.add(tf.keras.layers.BatchNormalization())"
   ]
  },
  {
   "cell_type": "code",
   "execution_count": 96,
   "metadata": {},
   "outputs": [],
   "source": [
    "#Add 1st hidden layer\n",
    "model_2.add(tf.keras.layers.Dense(200, activation='sigmoid'))"
   ]
  },
  {
   "cell_type": "code",
   "execution_count": 101,
   "metadata": {},
   "outputs": [],
   "source": [
    "#Add 2nd hidden layer\n",
    "model_2.add(tf.keras.layers.Dense(100, activation='relu'))"
   ]
  },
  {
   "cell_type": "code",
   "execution_count": 102,
   "metadata": {},
   "outputs": [],
   "source": [
    "#Add 3rd hidden layer\n",
    "model_2.add(tf.keras.layers.Dense(60, activation='sigmoid'))"
   ]
  },
  {
   "cell_type": "code",
   "execution_count": 103,
   "metadata": {},
   "outputs": [],
   "source": [
    "#Add 4th hidden layer\n",
    "model_2.add(tf.keras.layers.Dense(30, activation='relu'))"
   ]
  },
  {
   "cell_type": "code",
   "execution_count": 104,
   "metadata": {},
   "outputs": [],
   "source": [
    "#Add OUTPUT layer\n",
    "model_2.add(tf.keras.layers.Dense(10, activation='softmax'))"
   ]
  },
  {
   "cell_type": "code",
   "execution_count": 105,
   "metadata": {},
   "outputs": [],
   "source": [
    "#Create optimizer with non-default learning rate\n",
    "sgd_optimizer = tf.keras.optimizers.SGD(lr=0.03)\n",
    "\n",
    "#Compile the model\n",
    "model_2.compile(optimizer=sgd_optimizer, loss='categorical_crossentropy', metrics=['accuracy'])"
   ]
  },
  {
   "cell_type": "code",
   "execution_count": 106,
   "metadata": {},
   "outputs": [
    {
     "name": "stdout",
     "output_type": "stream",
     "text": [
      "Model: \"sequential_2\"\n",
      "_________________________________________________________________\n",
      "Layer (type)                 Output Shape              Param #   \n",
      "=================================================================\n",
      "reshape_2 (Reshape)          (None, 1024)              0         \n",
      "_________________________________________________________________\n",
      "batch_normalization_2 (Batch (None, 1024)              4096      \n",
      "_________________________________________________________________\n",
      "dense_10 (Dense)             (None, 200)               205000    \n",
      "_________________________________________________________________\n",
      "dense_11 (Dense)             (None, 100)               20100     \n",
      "_________________________________________________________________\n",
      "dense_12 (Dense)             (None, 60)                6060      \n",
      "_________________________________________________________________\n",
      "dense_13 (Dense)             (None, 30)                1830      \n",
      "_________________________________________________________________\n",
      "dense_14 (Dense)             (None, 10)                310       \n",
      "_________________________________________________________________\n",
      "dense_15 (Dense)             (None, 100)               1100      \n",
      "_________________________________________________________________\n",
      "dense_16 (Dense)             (None, 60)                6060      \n",
      "_________________________________________________________________\n",
      "dense_17 (Dense)             (None, 30)                1830      \n",
      "_________________________________________________________________\n",
      "dense_18 (Dense)             (None, 10)                310       \n",
      "=================================================================\n",
      "Total params: 246,696\n",
      "Trainable params: 244,648\n",
      "Non-trainable params: 2,048\n",
      "_________________________________________________________________\n"
     ]
    }
   ],
   "source": [
    "model_2.summary()"
   ]
  },
  {
   "cell_type": "code",
   "execution_count": 109,
   "metadata": {},
   "outputs": [
    {
     "name": "stdout",
     "output_type": "stream",
     "text": [
      "Epoch 1/20\n",
      "42000/42000 [==============================] - 75s 2ms/sample - loss: 2.3053 - acc: 0.099919s - loss: \n",
      "Epoch 2/20\n",
      "42000/42000 [==============================] - 8s 190us/sample - loss: 2.3046 - acc: 0.1021\n",
      "Epoch 3/20\n",
      "42000/42000 [==============================] - 8s 186us/sample - loss: 2.3046 - acc: 0.0965\n",
      "Epoch 4/20\n",
      "42000/42000 [==============================] - 8s 198us/sample - loss: 2.3041 - acc: 0.0990\n",
      "Epoch 5/20\n",
      "42000/42000 [==============================] - 8s 195us/sample - loss: 2.3031 - acc: 0.1016\n",
      "Epoch 6/20\n",
      "42000/42000 [==============================] - 8s 191us/sample - loss: 2.3029 - acc: 0.1009\n",
      "Epoch 7/20\n",
      "42000/42000 [==============================] - 9s 224us/sample - loss: 2.3029 - acc: 0.0974\n",
      "Epoch 8/20\n",
      "42000/42000 [==============================] - 8s 187us/sample - loss: 2.3029 - acc: 0.0993\n",
      "Epoch 9/20\n",
      "42000/42000 [==============================] - 8s 185us/sample - loss: 2.3028 - acc: 0.0988\n",
      "Epoch 10/20\n",
      "42000/42000 [==============================] - 8s 189us/sample - loss: 2.3029 - acc: 0.0974\n",
      "Epoch 11/20\n",
      "42000/42000 [==============================] - 9s 212us/sample - loss: 2.3029 - acc: 0.0997\n",
      "Epoch 12/20\n",
      "42000/42000 [==============================] - 8s 192us/sample - loss: 2.3029 - acc: 0.0984\n",
      "Epoch 13/20\n",
      "42000/42000 [==============================] - 8s 202us/sample - loss: 2.3029 - acc: 0.1000\n",
      "Epoch 14/20\n",
      "42000/42000 [==============================] - 9s 217us/sample - loss: 2.3029 - acc: 0.0994\n",
      "Epoch 15/20\n",
      "42000/42000 [==============================] - ETA: 0s - loss: 2.3029 - acc: 0.099 - 10s 231us/sample - loss: 2.3029 - acc: 0.0991\n",
      "Epoch 16/20\n",
      "42000/42000 [==============================] - 9s 220us/sample - loss: 2.3028 - acc: 0.1002\n",
      "Epoch 17/20\n",
      "42000/42000 [==============================] - 9s 224us/sample - loss: 2.3029 - acc: 0.0975\n",
      "Epoch 18/20\n",
      "42000/42000 [==============================] - 9s 222us/sample - loss: 2.3029 - acc: 0.1002\n",
      "Epoch 19/20\n",
      "42000/42000 [==============================] - 8s 197us/sample - loss: 2.3028 - acc: 0.0995\n",
      "Epoch 20/20\n",
      "42000/42000 [==============================] - 9s 211us/sample - loss: 2.3028 - acc: 0.0999\n"
     ]
    },
    {
     "data": {
      "text/plain": [
       "<tensorflow.python.keras.callbacks.History at 0x1c00904f0b8>"
      ]
     },
     "execution_count": 109,
     "metadata": {},
     "output_type": "execute_result"
    }
   ],
   "source": [
    "model_2.fit(X_train_nn,y_train_nn,\n",
    "          epochs=20)"
   ]
  },
  {
   "cell_type": "markdown",
   "metadata": {},
   "source": [
    "Since My laptop is getting slower , I had to check 'model_2' accuracy at 20 epochs only and which is slightly lesser than 'model'."
   ]
  },
  {
   "cell_type": "markdown",
   "metadata": {},
   "source": [
    "# Conclusion"
   ]
  },
  {
   "cell_type": "markdown",
   "metadata": {},
   "source": [
    "KNN was able to train out model to get accuracy of 45.7% whereas Neural network is abe to offer 77.3% after 100 epochs, Hence showing much better performance compared to KNN."
   ]
  }
 ],
 "metadata": {
  "kernelspec": {
   "display_name": "Python 3",
   "language": "python",
   "name": "python3"
  },
  "language_info": {
   "codemirror_mode": {
    "name": "ipython",
    "version": 3
   },
   "file_extension": ".py",
   "mimetype": "text/x-python",
   "name": "python",
   "nbconvert_exporter": "python",
   "pygments_lexer": "ipython3",
   "version": "3.7.3"
  }
 },
 "nbformat": 4,
 "nbformat_minor": 2
}
